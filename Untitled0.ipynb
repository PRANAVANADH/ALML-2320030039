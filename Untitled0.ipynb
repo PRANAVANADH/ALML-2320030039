{
  "cells": [
    {
      "cell_type": "code",
      "execution_count": null,
      "metadata": {
        "colab": {
          "base_uri": "https://localhost:8080/"
        },
        "id": "-_sftFLFy8YX",
        "outputId": "d66b4aaa-6657-4292-b0a4-0d197ad59d19"
      },
      "outputs": [
        {
          "output_type": "stream",
          "name": "stdout",
          "text": [
            "pranavanadh\n"
          ]
        }
      ],
      "source": [
        "print(\"pranavanadh\")"
      ]
    },
    {
      "cell_type": "code",
      "source": [
        "from collections import deque\n",
        "def bfs(g,s):\n",
        "    q=deque([s])\n",
        "    v=set()\n",
        "    v.add(s)\n",
        "    while q:\n",
        "        n=q.popleft()\n",
        "        print(n,end=\" \")\n",
        "        for i in g[n]:\n",
        "            if i not in v:\n",
        "                v.add(i)\n",
        "                q.append(i)\n",
        "g={'A':['B','C'],\n",
        "   'B':['D','E'],\n",
        "   'C':['F'],\n",
        "   'D': [],\n",
        "   'E': [],\n",
        "   'F': []\n",
        "}\n",
        "bfs(g,'A')"
      ],
      "metadata": {
        "colab": {
          "base_uri": "https://localhost:8080/"
        },
        "id": "DQ1gUJ8eqEri",
        "outputId": "fc3fe592-f419-41ec-80a7-924442d312bf"
      },
      "execution_count": null,
      "outputs": [
        {
          "output_type": "stream",
          "name": "stdout",
          "text": [
            "A B C D E F "
          ]
        }
      ]
    },
    {
      "cell_type": "code",
      "source": [
        "class Graph:\n",
        "    def __init__(self):\n",
        "        self.graph = {}\n",
        "\n",
        "    def add_edge(self, u, v):\n",
        "        if u not in self.graph:\n",
        "            self.graph[u] = []\n",
        "        self.graph[u].append(v)\n",
        "\n",
        "    def dfs(self, start):\n",
        "        visited = set()\n",
        "\n",
        "        def dfs_util(node):\n",
        "            visited.add(node)\n",
        "            print(node)\n",
        "\n",
        "            for neighbor in self.graph.get(node, []):\n",
        "                if neighbor not in visited:\n",
        "                    dfs_util(neighbor)\n",
        "\n",
        "        dfs_util(start)\n",
        "g = Graph()\n",
        "g.add_edge(0, 1)\n",
        "g.add_edge(0, 2)\n",
        "g.add_edge(1, 2)\n",
        "g.add_edge(2, 0)\n",
        "g.add_edge(2, 3)\n",
        "g.add_edge(3, 3)\n",
        "\n",
        "print(\"Depth First Traversal:\")\n",
        "g.dfs(2)"
      ],
      "metadata": {
        "colab": {
          "base_uri": "https://localhost:8080/"
        },
        "id": "C5v1DQrHqgU-",
        "outputId": "37319eff-dd68-4441-b217-e52af1b58c0b"
      },
      "execution_count": null,
      "outputs": [
        {
          "output_type": "stream",
          "name": "stdout",
          "text": [
            "Depth First Traversal:\n",
            "2\n",
            "0\n",
            "1\n",
            "3\n"
          ]
        }
      ]
    },
    {
      "cell_type": "code",
      "source": [
        "class Graph:\n",
        "\tdef __init__(self, V):\n",
        "\t\tself.V = V\n",
        "\t\tself.adj = [[] for i in range(V)]\n",
        "\n",
        "\tdef addEdge(self, v, w):\n",
        "\t\tself.adj[v].append(w)\n",
        "\n",
        "\tdef DFSUtil(self, s, visited):\n",
        "\n",
        "\n",
        "\t\tstack = []\n",
        "\n",
        "\n",
        "\t\tstack.append(s)\n",
        "\n",
        "\t\twhile (len(stack) != 0):\n",
        "\n",
        "\n",
        "\t\t\ts = stack.pop()\n",
        "\n",
        "\n",
        "\t\t\tif (not visited[s]):\n",
        "\t\t\t\tprint(s, end = \" \")\n",
        "\t\t\t\tvisited[s] = True\n",
        "\n",
        "\n",
        "\t\t\ti = 0\n",
        "\t\t\twhile i < len(self.adj[s]):\n",
        "\t\t\t\tif (not visited[self.adj[s][i]]):\n",
        "\t\t\t\t\tstack.append(self.adj[s][i])\n",
        "\t\t\t\ti += 1\n",
        "\n",
        "\tdef DFS(self):\n",
        "\n",
        "\n",
        "\t\tvisited = [False] * self.V\n",
        "\t\tfor i in range(self.V):\n",
        "\t\t\tif (not visited[i]):\n",
        "\t\t\t\tself.DFSUtil(i, visited)\n",
        "\n",
        "if __name__ == '__main__':\n",
        "\n",
        "\tg = Graph(5)\n",
        "\tg.addEdge(1, 0)\n",
        "\tg.addEdge(2, 1)\n",
        "\tg.addEdge(3, 4)\n",
        "\tg.addEdge(4, 0)\n",
        "\n",
        "\tprint(\"Following is Depth First Traversal\")\n",
        "\tg.DFS()\n",
        "\n"
      ],
      "metadata": {
        "colab": {
          "base_uri": "https://localhost:8080/"
        },
        "id": "agi_va8tq2NQ",
        "outputId": "a6527a9c-6059-432a-8049-0e504a29334e"
      },
      "execution_count": null,
      "outputs": [
        {
          "output_type": "stream",
          "name": "stdout",
          "text": [
            "Following is Depth First Traversal\n",
            "0 1 2 3 4 "
          ]
        }
      ]
    },
    {
      "cell_type": "code",
      "source": [
        "def iterative_deepening_search(node, goal, depth_limit):\n",
        "    for depth in range(depth_limit):\n",
        "        result = depth_limited_search(node, goal, depth)\n",
        "        if result == 'found':\n",
        "            return 'Goal found at depth: {}'.format(depth)\n",
        "    return 'Goal not found within depth limit'\n",
        "\n",
        "def depth_limited_search(node, goal, depth):\n",
        "    if node == goal:\n",
        "        return 'found'\n",
        "    if depth == 0:\n",
        "        return 'cutoff'\n",
        "    cutoff_occurred = False\n",
        "    for child in expand(node):\n",
        "        result = depth_limited_search(child, goal, depth - 1)\n",
        "        if result == 'found':\n",
        "            return 'found'\n",
        "        if result == 'cutoff':\n",
        "            cutoff_occurred = True\n",
        "    if cutoff_occurred:\n",
        "        return 'cutoff'\n",
        "    return 'not found'\n",
        "\n",
        "def expand(node):\n",
        "    children = {\n",
        "        'A': ['B', 'C'],\n",
        "        'B': ['D', 'E'],\n",
        "        'C': ['F', 'G'],\n",
        "        'D': [],\n",
        "        'E': [],\n",
        "        'F': [],\n",
        "        'G': []\n",
        "    }\n",
        "    return children.get(node, [])\n",
        "initial_node = 'A'\n",
        "goal_node = 'D'\n",
        "depth_limit = 3\n",
        "print(iterative_deepening_search(initial_node, goal_node, depth_limit))"
      ],
      "metadata": {
        "colab": {
          "base_uri": "https://localhost:8080/"
        },
        "id": "1w4XI2ffq9uf",
        "outputId": "3e427a1c-6d7c-482d-983a-d6a31da81918"
      },
      "execution_count": null,
      "outputs": [
        {
          "output_type": "stream",
          "name": "stdout",
          "text": [
            "Goal found at depth: 2\n"
          ]
        }
      ]
    },
    {
      "cell_type": "code",
      "source": [
        "def dfs(graph, node, visited):\n",
        "    if node not in visited:\n",
        "        print(node)\n",
        "        visited.add(node)\n",
        "        for neighbor in graph[node]:\n",
        "            dfs(graph, neighbor, visited)\n",
        "graph = {\n",
        "    'A': ['B', 'C'],\n",
        "    'B': ['D', 'E'],\n",
        "    'C': ['F'],\n",
        "    'D': [],\n",
        "    'E': ['F'],\n",
        "    'F': []\n",
        "}\n",
        "\n",
        "visited = set()\n",
        "dfs(graph, 'A', visited)"
      ],
      "metadata": {
        "colab": {
          "base_uri": "https://localhost:8080/"
        },
        "id": "-8bKESSGrCHU",
        "outputId": "e7f5a5e8-bdd2-4170-96a8-9a8fcd79f5dc"
      },
      "execution_count": null,
      "outputs": [
        {
          "output_type": "stream",
          "name": "stdout",
          "text": [
            "A\n",
            "B\n",
            "D\n",
            "E\n",
            "F\n",
            "C\n"
          ]
        }
      ]
    },
    {
      "cell_type": "code",
      "source": [
        "from collections import deque\n",
        "\n",
        "class BFS:\n",
        "    def __init__(self, graph):\n",
        "        self.graph = graph\n",
        "\n",
        "    def bfs(self, start_node):\n",
        "        visited = set()\n",
        "        queue = deque([start_node])\n",
        "\n",
        "        while queue:\n",
        "            node = queue.popleft()\n",
        "            if node not in visited:\n",
        "                visited.add(node)\n",
        "                print(node)\n",
        "\n",
        "                for neighbor in self.graph[node]:\n",
        "                    if neighbor not in visited:\n",
        "                        queue.append(neighbor)\n",
        "\n",
        "graph = {\n",
        "    'A': ['B', 'C'],\n",
        "    'B': ['A', 'D', 'E'],\n",
        "    'C': ['A', 'F'],\n",
        "    'D': ['B'],\n",
        "    'E': ['B', 'F'],\n",
        "    'F': ['C', 'E']\n",
        "}\n",
        "\n",
        "bfs = BFS(graph)\n",
        "bfs.bfs('A')"
      ],
      "metadata": {
        "colab": {
          "base_uri": "https://localhost:8080/"
        },
        "id": "_qrPDSZgrH-o",
        "outputId": "29a1a7fd-8577-43ec-ec18-b5cda10fa15b"
      },
      "execution_count": null,
      "outputs": [
        {
          "output_type": "stream",
          "name": "stdout",
          "text": [
            "A\n",
            "B\n",
            "C\n",
            "D\n",
            "E\n",
            "F\n"
          ]
        }
      ]
    },
    {
      "cell_type": "code",
      "source": [
        "def dfs_recursive(graph, source,path = []):\n",
        "\n",
        "       if source not in path:\n",
        "           path.append(source)\n",
        "\n",
        "           if source not in graph:\n",
        "               return path\n",
        "\n",
        "           for neighbour in graph[source]:\n",
        "\n",
        "               path = dfs_recursive(graph, neighbour, path)\n",
        "\n",
        "\n",
        "       return path\n",
        "\n",
        "graph = {\"A\":[\"B\",\"C\",\"D\"],\n",
        "   \"B\":[\"E\"],\n",
        "   \"C\":[\"G\",\"F\"],\n",
        "   \"D\":[\"H\"],\n",
        "   \"E\":[\"I\"],\n",
        "   \"F\":[\"J\"],\n",
        "   \"G\":[\"K\"]}\n",
        "dfs_element = dfs_recursive(graph, \"A\")\n",
        "print(dfs_element)"
      ],
      "metadata": {
        "colab": {
          "base_uri": "https://localhost:8080/"
        },
        "id": "bpPajRXSrN7r",
        "outputId": "492956d4-5a88-4fde-fa5f-cb8b7ca008ef"
      },
      "execution_count": null,
      "outputs": [
        {
          "output_type": "stream",
          "name": "stdout",
          "text": [
            "['A', 'B', 'E', 'I', 'C', 'G', 'K', 'F', 'J', 'D', 'H']\n"
          ]
        }
      ]
    },
    {
      "cell_type": "code",
      "source": [
        "class Car:\n",
        "    def __init__(self):\n",
        "        self.__max_speed = 200\n",
        "\n",
        "    def drive(self):\n",
        "        print(f\"Driving at max speed: {self.__max_speed}\")\n",
        "\n",
        "car = Car()\n",
        "car.drive()"
      ],
      "metadata": {
        "colab": {
          "base_uri": "https://localhost:8080/"
        },
        "id": "h6D8oCQYrTNF",
        "outputId": "24cf7ace-93f0-49f5-ea7c-6f9b1ccc2d49"
      },
      "execution_count": null,
      "outputs": [
        {
          "output_type": "stream",
          "name": "stdout",
          "text": [
            "Driving at max speed: 200\n"
          ]
        }
      ]
    },
    {
      "cell_type": "code",
      "source": [],
      "metadata": {
        "id": "8AqVF1VxrUro"
      },
      "execution_count": null,
      "outputs": []
    }
  ],
  "metadata": {
    "colab": {
      "provenance": []
    },
    "kernelspec": {
      "display_name": "Python 3",
      "name": "python3"
    },
    "language_info": {
      "name": "python"
    }
  },
  "nbformat": 4,
  "nbformat_minor": 0
}