{
  "nbformat": 4,
  "nbformat_minor": 0,
  "metadata": {
    "colab": {
      "provenance": []
    },
    "kernelspec": {
      "name": "python3",
      "display_name": "Python 3"
    },
    "language_info": {
      "name": "python"
    }
  },
  "cells": [
    {
      "cell_type": "code",
      "execution_count": null,
      "metadata": {
        "colab": {
          "base_uri": "https://localhost:8080/"
        },
        "id": "c3BDRML-Ki0B",
        "outputId": "0e8e8614-9b3d-482f-c697-18c7f769cff9"
      },
      "outputs": [
        {
          "output_type": "stream",
          "name": "stdout",
          "text": [
            "Color Assignment: [1, 2, 3, 1]\n"
          ]
        }
      ],
      "source": [
        "\n",
        "\n",
        "\n",
        "def is_safe(node, color, graph, colors_assigned):\n",
        "\n",
        "    for neighbor in graph[node]:\n",
        "        if colors_assigned[neighbor] == color:\n",
        "            return False\n",
        "    return True\n",
        "\n",
        "def solve_map_coloring(graph, num_colors, colors_assigned, node):\n",
        "\n",
        "    if node == len(graph):\n",
        "        return True\n",
        "\n",
        "\n",
        "    for color in range(1, num_colors + 1):\n",
        "        if is_safe(node, color, graph, colors_assigned):\n",
        "\n",
        "            colors_assigned[node] = color\n",
        "\n",
        "            if solve_map_coloring(graph, num_colors, colors_assigned, node + 1):\n",
        "                return True\n",
        "\n",
        "\n",
        "            colors_assigned[node] = 0\n",
        "\n",
        "    return False\n",
        "\n",
        "def map_coloring(graph, num_colors):\n",
        "\n",
        "    colors_assigned = [0] * len(graph)\n",
        "\n",
        "\n",
        "    if not solve_map_coloring(graph, num_colors, colors_assigned, 0):\n",
        "        return \"No solution exists\"\n",
        "\n",
        "\n",
        "    return colors_assigned\n",
        "\n",
        "\n",
        "graph = {\n",
        "    0: [1, 2],  # A\n",
        "    1: [0, 2, 3],  # B\n",
        "    2: [0, 1, 3],  # C\n",
        "    3: [1, 2]  # D\n",
        "}\n",
        "\n",
        "\n",
        "num_colors = 3\n",
        "\n",
        "\n",
        "result = map_coloring(graph, num_colors)\n",
        "\n",
        "print(\"Color Assignment:\", result)\n"
      ]
    }
  ]
}